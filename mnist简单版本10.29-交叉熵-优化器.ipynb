{
 "cells": [
  {
   "cell_type": "code",
   "execution_count": 7,
   "metadata": {},
   "outputs": [
    {
     "name": "stdout",
     "output_type": "stream",
     "text": [
      "Extracting MNIST_data\\train-images-idx3-ubyte.gz\n",
      "Extracting MNIST_data\\train-labels-idx1-ubyte.gz\n",
      "Extracting MNIST_data\\t10k-images-idx3-ubyte.gz\n",
      "Extracting MNIST_data\\t10k-labels-idx1-ubyte.gz\n"
     ]
    }
   ],
   "source": [
    "import tensorflow as tf\n",
    "from tensorflow.examples.tutorials.mnist import input_data\n",
    "mnist=input_data.read_data_sets(\"MNIST_data\",one_hot=True)"
   ]
  },
  {
   "cell_type": "code",
   "execution_count": 8,
   "metadata": {},
   "outputs": [],
   "source": [
    "batch_size=100\n",
    "n_batch=mnist.train.num_examples//batch_size\n",
    "x=tf.placeholder(tf.float32,[None,784]) #None 等会变成100"
   ]
  },
  {
   "cell_type": "code",
   "execution_count": 9,
   "metadata": {},
   "outputs": [],
   "source": [
    "y=tf.placeholder(tf.float32,[None,10]) #None 等会变成100"
   ]
  },
  {
   "cell_type": "code",
   "execution_count": 10,
   "metadata": {},
   "outputs": [],
   "source": [
    "W=tf.Variable(tf.zeros([784,10]))\n",
    "b=tf.Variable(tf.zeros([10]))\n",
    "prediction= tf.nn.softmax(tf.matmul(x,W)+b)"
   ]
  },
  {
   "cell_type": "code",
   "execution_count": 12,
   "metadata": {},
   "outputs": [
    {
     "name": "stdout",
     "output_type": "stream",
     "text": [
      "Iter0,Testing Accuracy0.899\n",
      "Iter1,Testing Accuracy0.9127\n",
      "Iter2,Testing Accuracy0.9161\n",
      "Iter3,Testing Accuracy0.9199\n",
      "Iter4,Testing Accuracy0.9218\n",
      "Iter5,Testing Accuracy0.9238\n",
      "Iter6,Testing Accuracy0.9248\n",
      "Iter7,Testing Accuracy0.9288\n",
      "Iter8,Testing Accuracy0.9287\n",
      "Iter9,Testing Accuracy0.9274\n",
      "Iter10,Testing Accuracy0.9283\n",
      "Iter11,Testing Accuracy0.9305\n",
      "Iter12,Testing Accuracy0.93\n",
      "Iter13,Testing Accuracy0.9313\n",
      "Iter14,Testing Accuracy0.9308\n",
      "Iter15,Testing Accuracy0.931\n",
      "Iter16,Testing Accuracy0.9296\n",
      "Iter17,Testing Accuracy0.931\n",
      "Iter18,Testing Accuracy0.931\n",
      "Iter19,Testing Accuracy0.93\n"
     ]
    }
   ],
   "source": [
    "#定义交叉熵代价函数\n",
    "loss=tf.reduce_mean(tf.nn.softmax_cross_entropy_with_logits(labels=y,logits=prediction))\n",
    "#使用梯度下降法\n",
    "# train_step=tf.train.GradientDescentOptimizer(0.2).minimize(loss)\n",
    "train_step=tf.train.AdamOptimizer(1e-3).minimize(loss)\n",
    "\n",
    "\n",
    "#初始化变量\n",
    "init=tf.global_variables_initializer()\n",
    "\n",
    "#结果存在一个布尔型列表中\n",
    "correct_prediction=tf.equal(tf.argmax(y,1),tf.argmax(prediction,1))#argmax返回一维张量中最大的值的位置\n",
    "accuracy=tf.reduce_mean(tf.cast(correct_prediction,tf.float32)) #cast 把布尔型转化成浮点型，reduce_mean求平均\n",
    "\n",
    "with tf.Session() as sess:\n",
    "    sess.run(init)\n",
    "    for epoch in range(20):\n",
    "        for batch in range(n_batch):\n",
    "            batch_xs,batch_ys= mnist.train.next_batch(batch_size) #获得数据\n",
    "            sess.run(train_step,feed_dict={x:batch_xs,y:batch_ys})#训练数据\n",
    "            \n",
    "        acc=sess.run(accuracy,feed_dict={x:mnist.test.images,y:mnist.test.labels})\n",
    "        print(\"Iter\"+str(epoch)+\",Testing Accuracy\" + str(acc))\n",
    "    \n",
    "\n",
    "\n",
    "\n",
    "\n",
    "\n",
    "\n",
    "\n",
    "\n",
    "\n",
    "\n",
    "\n",
    "\n",
    "\n",
    "\n",
    "\n",
    "\n",
    "\n",
    "\n",
    "\n",
    "\n",
    "\n",
    "\n",
    "\n",
    "\n",
    "\n",
    "\n",
    "\n",
    "\n",
    "\n",
    "\n"
   ]
  },
  {
   "cell_type": "code",
   "execution_count": null,
   "metadata": {},
   "outputs": [],
   "source": []
  },
  {
   "cell_type": "code",
   "execution_count": null,
   "metadata": {},
   "outputs": [],
   "source": []
  }
 ],
 "metadata": {
  "kernelspec": {
   "display_name": "Python 3",
   "language": "python",
   "name": "python3"
  },
  "language_info": {
   "codemirror_mode": {
    "name": "ipython",
    "version": 3
   },
   "file_extension": ".py",
   "mimetype": "text/x-python",
   "name": "python",
   "nbconvert_exporter": "python",
   "pygments_lexer": "ipython3",
   "version": "3.7.4"
  }
 },
 "nbformat": 4,
 "nbformat_minor": 2
}
